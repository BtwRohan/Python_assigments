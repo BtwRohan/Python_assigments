{
 "cells": [
  {
   "cell_type": "code",
   "execution_count": 5,
   "metadata": {},
   "outputs": [
    {
     "name": "stdout",
     "output_type": "stream",
     "text": [
      "1 - Addition\n",
      "2 - Subtraction\n",
      "3 - Multiplication\n",
      "4 - Division\n",
      "5 - Floor Division\n",
      "6 - Remainder\n",
      "7 - Power\n",
      "8 - Exit\n",
      "Multiplication:  6.0\n",
      "1 - Addition\n",
      "2 - Subtraction\n",
      "3 - Multiplication\n",
      "4 - Division\n",
      "5 - Floor Division\n",
      "6 - Remainder\n",
      "7 - Power\n",
      "8 - Exit\n"
     ]
    }
   ],
   "source": [
    "while True:\n",
    "    print('1 - Addition')\n",
    "    print('2 - Subtraction')\n",
    "    print('3 - Multiplication')\n",
    "    print('4 - Division')\n",
    "    print('5 - Floor Division')\n",
    "    print('6 - Remainder')\n",
    "    print('7 - Power')\n",
    "    print('8 - Exit')\n",
    "\n",
    "    choice = input('Enter Choice: ')\n",
    "\n",
    "    if choice in ('1','2','3','4','5','6','7'):\n",
    "        num1 = float(input('Enter First Number: '))\n",
    "        num2 = float(input('Enter Second Number: '))\n",
    "\n",
    "        if choice == '1':\n",
    "            print('Addition: ',(num1+num2))\n",
    "        elif choice == '2':\n",
    "            print('Subtraction: ',(num1-num2))\n",
    "        elif choice == '3':\n",
    "            print('Multiplication: ',(num1*num2))\n",
    "        elif choice == '4':\n",
    "            if num2 != 0:\n",
    "                print('Division: ',(num1/num2))\n",
    "            else:\n",
    "                print('division not possible')\n",
    "        elif choice == '5':\n",
    "            print('Floor Division: ',(num1//num2))\n",
    "        elif choice == '6':\n",
    "            print('Remainder: ',(num1%num2))\n",
    "        elif choice == '7':\n",
    "            print('Power: ',(num1**num2))\n",
    "    elif choice == '8':\n",
    "        break\n",
    "    else:\n",
    "        print('Invalid choice')"
   ]
  },
  {
   "cell_type": "code",
   "execution_count": 7,
   "metadata": {},
   "outputs": [
    {
     "name": "stdout",
     "output_type": "stream",
     "text": [
      "1 - Celcius to Farenheit\n",
      "2 - Farenheit to Celcius\n",
      "3 - Exit\n",
      "Farenheit:  53.6\n",
      "1 - Celcius to Farenheit\n",
      "2 - Farenheit to Celcius\n",
      "3 - Exit\n",
      "Celcius:  -11.11111111111111\n",
      "1 - Celcius to Farenheit\n",
      "2 - Farenheit to Celcius\n",
      "3 - Exit\n"
     ]
    }
   ],
   "source": [
    "while True:\n",
    "    print('1 - Celcius to Farenheit')\n",
    "    print('2 - Farenheit to Celcius')\n",
    "    print('3 - Exit')\n",
    "\n",
    "    choice = input('Enter Choice: ')\n",
    "\n",
    "    if choice in ('1','2'):\n",
    "        temperature = float(input('Enter Temperature: '))\n",
    "\n",
    "        if choice == '1':\n",
    "            print('Farenheit: ', ((temperature * 9/5) + 32))\n",
    "        elif choice == '2':\n",
    "            print('Celcius: ',((temperature - 32) * 5/9))\n",
    "    elif choice == '3':\n",
    "        break\n",
    "    else:\n",
    "        print('Invalid choice')"
   ]
  },
  {
   "cell_type": "code",
   "execution_count": null,
   "metadata": {},
   "outputs": [],
   "source": []
  }
 ],
 "metadata": {
  "kernelspec": {
   "display_name": "Python 3",
   "language": "python",
   "name": "python3"
  },
  "language_info": {
   "codemirror_mode": {
    "name": "ipython",
    "version": 3
   },
   "file_extension": ".py",
   "mimetype": "text/x-python",
   "name": "python",
   "nbconvert_exporter": "python",
   "pygments_lexer": "ipython3",
   "version": "3.12.3"
  }
 },
 "nbformat": 4,
 "nbformat_minor": 2
}
